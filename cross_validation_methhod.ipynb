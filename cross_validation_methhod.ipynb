{
 "cells": [
  {
   "cell_type": "markdown",
   "id": "5062214d-d322-4bd8-8c86-6e313faaa146",
   "metadata": {},
   "source": [
    "# Import core libraries\n"
   ]
  },
  {
   "cell_type": "code",
   "execution_count": 1,
   "id": "9400face-2128-4d5a-8c77-7c1901626da1",
   "metadata": {},
   "outputs": [
    {
     "name": "stdout",
     "output_type": "stream",
     "text": [
      "Data shape: (100, 10) (100,)\n"
     ]
    }
   ],
   "source": [
    "import numpy as np\n",
    "import matplotlib.pyplot as plt\n",
    "from sklearn.datasets import make_classification\n",
    "from sklearn.model_selection import (\n",
    "    KFold, \n",
    "    StratifiedKFold,\n",
    "    LeaveOneOut,\n",
    "    ShuffleSplit,\n",
    "    cross_val_score\n",
    ")\n",
    "from sklearn.ensemble import RandomForestClassifier\n",
    "from sklearn.metrics import accuracy_score\n"
   ]
  },
  {
   "cell_type": "markdown",
   "id": "8ba5bb78-1e1c-4351-9b34-85a3b9f6f36d",
   "metadata": {},
   "source": [
    "# Generate sample data"
   ]
  },
  {
   "cell_type": "code",
   "execution_count": 5,
   "id": "749969db-3be7-41a2-aa97-05838eb7db97",
   "metadata": {},
   "outputs": [
    {
     "name": "stdout",
     "output_type": "stream",
     "text": [
      "Data shape: (100, 10) (100,)\n"
     ]
    }
   ],
   "source": [
    "X, y = make_classification(\n",
    "    n_samples=100, \n",
    "    n_features=10, \n",
    "    n_classes=2, \n",
    "    random_state=42\n",
    ")\n",
    "print(\"Data shape:\", X.shape, y.shape)"
   ]
  },
  {
   "cell_type": "markdown",
   "id": "3bdd8c43-177f-4159-b1b4-0a985cc3fd2a",
   "metadata": {},
   "source": [
    "# 1. K-Fold Cross-Validation\n"
   ]
  },
  {
   "cell_type": "code",
   "execution_count": 7,
   "id": "3e80619b-ae07-4b3d-b0a5-35479b0f9676",
   "metadata": {},
   "outputs": [
    {
     "name": "stdout",
     "output_type": "stream",
     "text": [
      "Fold 1: Accuracy = 1.0000\n",
      "Fold 2: Accuracy = 0.8500\n",
      "Fold 3: Accuracy = 0.9000\n",
      "Fold 4: Accuracy = 0.9500\n",
      "Fold 5: Accuracy = 0.9000\n",
      "\n",
      "Average Accuracy: 0.9200\n"
     ]
    }
   ],
   "source": [
    "kfold = KFold(n_splits=5, shuffle=True, random_state=42)\n",
    "scores = []\n",
    "\n",
    "for fold, (train_idx, test_idx) in enumerate(kfold.split(X)):\n",
    "    X_train, X_test = X[train_idx], X[test_idx]\n",
    "    y_train, y_test = y[train_idx], y[test_idx]\n",
    "    \n",
    "    model = RandomForestClassifier(random_state=42)\n",
    "    model.fit(X_train, y_train)\n",
    "    preds = model.predict(X_test)\n",
    "    acc = accuracy_score(y_test, preds)\n",
    "    scores.append(acc)\n",
    "    \n",
    "    print(f\"Fold {fold+1}: Accuracy = {acc:.4f}\")\n",
    "\n",
    "print(f\"\\nAverage Accuracy: {np.mean(scores):.4f}\")"
   ]
  },
  {
   "cell_type": "markdown",
   "id": "db98f30c-e6b3-4e34-a82c-aa8a45ccfab3",
   "metadata": {},
   "source": [
    "# 2. Stratified K-Fold (for imbalanced classes)\n"
   ]
  },
  {
   "cell_type": "code",
   "execution_count": 11,
   "id": "f7959687-0b9c-428b-9ba6-987e9fd3daad",
   "metadata": {},
   "outputs": [
    {
     "name": "stdout",
     "output_type": "stream",
     "text": [
      "Stratified K-Fold Scores: ['1.0000', '0.9500', '0.8500', '0.9500', '1.0000']\n",
      "Mean Accuracy: 0.9500\n"
     ]
    }
   ],
   "source": [
    "skf = StratifiedKFold(n_splits=5, shuffle=True, random_state=42)\n",
    "cv_scores = cross_val_score(\n",
    "    RandomForestClassifier(random_state=42),\n",
    "    X, y, cv=skf, scoring='accuracy'\n",
    ")\n",
    "\n",
    "print(\"Stratified K-Fold Scores:\", [f\"{s:.4f}\" for s in cv_scores])\n",
    "print(f\"Mean Accuracy: {np.mean(cv_scores):.4f}\")"
   ]
  },
  {
   "cell_type": "markdown",
   "id": "d93568ac-2ab3-4d25-b8aa-c7d7235a4afa",
   "metadata": {},
   "source": [
    "# 3. Leave-One-Out (LOO)\n"
   ]
  },
  {
   "cell_type": "code",
   "execution_count": null,
   "id": "d8864647-6aa8-4179-a50a-11fa07745f34",
   "metadata": {},
   "outputs": [],
   "source": [
    "loo = LeaveOneOut()\n",
    "loo_scores = cross_val_score(\n",
    "    RandomForestClassifier(random_state=42),\n",
    "    X, y, cv=loo, scoring='accuracy'\n",
    ")\n",
    "\n",
    "print(f\"LOO Accuracy: {np.mean(loo_scores):.4f}\")\n",
    "print(f\"Computation time: {len(X)} iterations\")"
   ]
  },
  {
   "cell_type": "code",
   "execution_count": null,
   "id": "2f1d2422-0785-4b77-957c-bad3f8cd78e3",
   "metadata": {},
   "outputs": [],
   "source": []
  }
 ],
 "metadata": {
  "kernelspec": {
   "display_name": "Python [conda env:base] *",
   "language": "python",
   "name": "conda-base-py"
  },
  "language_info": {
   "codemirror_mode": {
    "name": "ipython",
    "version": 3
   },
   "file_extension": ".py",
   "mimetype": "text/x-python",
   "name": "python",
   "nbconvert_exporter": "python",
   "pygments_lexer": "ipython3",
   "version": "3.11.5"
  }
 },
 "nbformat": 4,
 "nbformat_minor": 5
}
